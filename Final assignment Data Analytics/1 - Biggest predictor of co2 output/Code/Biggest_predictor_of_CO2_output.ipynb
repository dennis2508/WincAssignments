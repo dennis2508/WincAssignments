{
  "nbformat": 4,
  "nbformat_minor": 0,
  "metadata": {
    "colab": {
      "provenance": []
    },
    "kernelspec": {
      "name": "python3",
      "display_name": "Python 3"
    },
    "language_info": {
      "name": "python"
    }
  },
  "cells": [
    {
      "cell_type": "code",
      "execution_count": 120,
      "metadata": {
        "id": "tPmuqDlbkzgX",
        "colab": {
          "base_uri": "https://localhost:8080/"
        },
        "outputId": "fb10bcd7-fc76-48fc-c28a-d49ed139aabe"
      },
      "outputs": [
        {
          "output_type": "stream",
          "name": "stdout",
          "text": [
            "The google.colab.data_table extension is already loaded. To reload it, use:\n",
            "  %reload_ext google.colab.data_table\n"
          ]
        }
      ],
      "source": [
        "import numpy as np\n",
        "import pandas as pd\n",
        "import numpy as np\n",
        "import matplotlib.pyplot as plt\n",
        "from sklearn.cluster import KMeans\n",
        "\n",
        "%load_ext google.colab.data_table\n"
      ]
    },
    {
      "cell_type": "markdown",
      "source": [
        "1. What is the biggest predictor of a large CO2 output per capita of a country?\n",
        "\n",
        "2. Which countries are making the biggest strides in decreasing CO2 output?\n",
        "3. Which non-fossil fuel energy technology will have the best price in the future?"
      ],
      "metadata": {
        "id": "p5gqwZ5MlJQ_"
      }
    },
    {
      "cell_type": "code",
      "source": [
        "df_population = pd.read_csv(\"/content/drive/MyDrive/Datasets/Final - Q1/population-marimekko.csv\")\n",
        "df_gdp = pd.read_csv(\"/content/drive/MyDrive/Datasets/Final - Q1/gdp-per-capita-worldbank.csv\")\n",
        "df_co2 = pd.read_csv(\"/content/drive/MyDrive/Datasets/Final - Q1/annual-co2-emissions-per-country.csv\")\n",
        "df_air_pas = pd.read_csv(\"/content/drive/MyDrive/Datasets/Final - Q1/air-passengers-carried.csv\")"
      ],
      "metadata": {
        "id": "QJLaYziflFEA"
      },
      "execution_count": 46,
      "outputs": []
    },
    {
      "cell_type": "code",
      "source": [
        "# Make datetime object of all the year columns an drop any empty columns. Drop unneccesary rows.\n",
        "\n",
        "df_population['Year'] = pd.to_datetime(df_population['Year'], format=\"%Y\", errors = \"coerce\")\n",
        "df_population.dropna(axis = 0, subset = [\"Year\",\"Population (historical estimates)\" ], inplace= True)\n",
        "df_population.drop(columns=[\"Code\",\"Continent\"], inplace= True)\n",
        "df_population.loc[df_population[\"Entity\"] == \"European Union (27)\", \"Entity\"] = \"European Union\"\n",
        "\n",
        "df_gdp['Year'] = pd.to_datetime(df_gdp['Year'], format=\"%Y\", errors = \"coerce\")\n",
        "df_gdp.dropna(axis = 0, subset = [\"Year\",\"GDP per capita, PPP (constant 2017 international $)\" ], inplace= True)\n",
        "df_gdp.drop(columns=[\"Code\"], inplace= True)\n",
        "\n",
        "df_co2[\"Year\"] = pd.to_datetime(df_co2[\"Year\"], format=\"%Y\", errors = \"coerce\")\n",
        "df_co2.dropna(axis = 0, subset = [\"Year\",\"Annual CO₂ emissions\" ], inplace= True)\n",
        "df_co2.drop(columns=[\"Code\"], inplace= True)\n",
        "df_co2.loc[df_co2[\"Entity\"] == \"European Union (27)\", \"Entity\"] = \"European Union\"\n",
        "\n",
        "df_air_pas['Year'] = pd.to_datetime(df_air_pas['Year'], format=\"%Y\", errors = \"coerce\")\n",
        "df_air_pas.dropna(axis = 0, subset = [\"Year\",\"Air transport, passengers carried\" ], inplace= True)\n",
        "df_air_pas.drop(columns=[\"Code\"], inplace= True)"
      ],
      "metadata": {
        "id": "gDel8ETe7k-t"
      },
      "execution_count": 47,
      "outputs": []
    },
    {
      "cell_type": "code",
      "source": [
        "# Merge the 3 differtent dataframes with the CO2 dataframe to compare and check the correlation. Drop the year 2020\n",
        "\n",
        "combined_data_1 = df_co2.merge(df_air_pas,on=[\"Year\", \"Entity\"]).merge(df_gdp,on=[\"Year\", \"Entity\"]).merge(df_population, on=[\"Year\", \"Entity\"])\n",
        "select_year = combined_data_1['Year'] < \"2020\"\n",
        "combined_data = combined_data_1[select_year]  \n",
        "\n",
        "display(combined_data)\n",
        "display(combined_data.corr())\n"
      ],
      "metadata": {
        "id": "eO3f-A8h5ndS"
      },
      "execution_count": null,
      "outputs": []
    },
    {
      "cell_type": "code",
      "source": [
        "# Make the 4 different plots to visualise the growth of each component per country/continent\n",
        "\n",
        "def select_country(df, country):\n",
        "  select = df['Entity'] == country\n",
        "  country_df = df[select]  \n",
        "  return country_df\n",
        "\n",
        "def make_plots(df, country):\n",
        "  x_axis = select_country(df, country)[\"Year\"]\n",
        "  y_axis_co2 = select_country(df, country)[\"Annual CO₂ emissions\"]\n",
        "  y_axis_pop = select_country(df, country)[\"Population (historical estimates)\"]\n",
        "  y_axis_gdp = select_country(df, country)[\"GDP per capita, PPP (constant 2017 international $)\"]\n",
        "  y_axis_pas = select_country(df, country)[\"Air transport, passengers carried\"]\n",
        "\n",
        "  figure, axis = plt.subplots(2, 2, figsize=(15, 10))\n",
        "  plt.suptitle(country)\n",
        "  \n",
        "  axis[0, 0].plot(x_axis, y_axis_co2)\n",
        "  axis[0, 0].set_title(\"Annual CO₂ emissions\")\n",
        "  axis[0, 0].grid()\n",
        "\n",
        "  axis[0, 1].plot(x_axis, y_axis_pas)\n",
        "  axis[0, 1].set_title(\"Air transport, passengers carried\")\n",
        "  axis[0, 1].grid()\n",
        "\n",
        "  axis[1, 0].plot(x_axis, y_axis_gdp)\n",
        "  axis[1, 0].set_title(\"GDP per capita, PPP (constant 2017 international $)\")\n",
        "  axis[1, 0 ].grid()\n",
        "\n",
        "  axis[1, 1].plot(x_axis, y_axis_pop)\n",
        "  axis[1, 1].set_title(\"Population (historical estimates)\")\n",
        "  axis[1, 1].grid()\n",
        "\n",
        "make_plots(combined_data, \"World\")\n",
        "make_plots(combined_data, \"European Union\")\n",
        "make_plots(combined_data, \"China\")\n",
        "make_plots(combined_data, \"United States\")"
      ],
      "metadata": {
        "id": "RSBxs52FyOQM"
      },
      "execution_count": null,
      "outputs": []
    },
    {
      "cell_type": "code",
      "source": [
        "# Make the plot for the growth of co2 worldwide\n",
        "\n",
        "merger_us = combined_data['Entity'] == \"World\"\n",
        "us_plot = combined_data[merger_us]\n",
        "\n",
        "x_axis = us_plot[\"Year\"]\n",
        "y_axis = us_plot[\"Annual CO₂ emissions\"]\n",
        "\n",
        "plt.plot(x_axis, y_axis)\n",
        "plt.title('Growth of CO2 emissions in the World')\n",
        "plt.xlabel('Year')\n",
        "plt.ylabel('Annual CO₂ emissions')\n",
        "plt.grid()\n",
        "plt.show()"
      ],
      "metadata": {
        "colab": {
          "base_uri": "https://localhost:8080/",
          "height": 295
        },
        "id": "1VqakhvjvizA",
        "outputId": "cf831366-79a3-4427-a000-af0c8bfca09c"
      },
      "execution_count": 119,
      "outputs": [
        {
          "output_type": "display_data",
          "data": {
            "text/plain": [
              "<Figure size 432x288 with 1 Axes>"
            ],
            "image/png": "[encoded data removed]"
          },
          "metadata": {
            "needs_background": "light"
          }
        }
      ]
    },
    {
      "cell_type": "code",
      "source": [
        "# Make a combined barchart per component and compared by country and continent\n",
        "\n",
        "def select_country(df, country):\n",
        "  select = df['Entity'] == country\n",
        "  country_df = df[select]  \n",
        "  return country_df\n",
        "\n",
        "fig, ax = plt.subplots(layout='constrained',figsize=(15, 10))\n",
        "\n",
        "N = 3\n",
        "ind = np.arange(N) \n",
        "width = 0.2\n",
        "  \n",
        "xvals = select_country(combined_data, \"World\").corr()[\"Annual CO₂ emissions\"][-3:]\n",
        "bar1 = ax.bar(ind-width, xvals, width, color = 'r')\n",
        "  \n",
        "yvals = select_country(combined_data, \"European Union\").corr()[\"Annual CO₂ emissions\"][-3:]\n",
        "bar2 = ax.bar(ind, yvals, width, color='g')\n",
        "  \n",
        "zvals = select_country(combined_data, \"China\").corr()[\"Annual CO₂ emissions\"][-3:]\n",
        "bar3 = ax.bar(ind+width, zvals, width, color = 'b')\n",
        "\n",
        "avals = select_country(combined_data, \"United States\").corr()[\"Annual CO₂ emissions\"][-3:]\n",
        "bar4 = ax.bar(ind+width*2, avals, width, color='y')\n",
        "  \n",
        "\n",
        "ax.set_ylabel('Correlation')\n",
        "ax.set_title('Correlation to annual co2 emmision')\n",
        "ax.set_xticks(ind+width,['Airline Passengers','GDP','Population'])\n",
        "ax.legend((bar1, bar2, bar3, bar4),('World', 'European Union', 'China', \"United States\"), loc='upper right')\n",
        "plt.grid()\n",
        "plt.show()\n"
      ],
      "metadata": {
        "colab": {
          "base_uri": "https://localhost:8080/",
          "height": 900
        },
        "id": "NkGb4X674G4G",
        "outputId": "1f125c46-3aa0-4351-bc5f-3c50793e65b7"
      },
      "execution_count": 117,
      "outputs": [
        {
          "output_type": "display_data",
          "data": {
            "text/plain": [
              "                                                    Annual CO₂ emissions  \\\n",
              "Annual CO₂ emissions                                            1.000000   \n",
              "Air transport, passengers carried                               0.949908   \n",
              "GDP per capita, PPP (constant 2017 internationa...              0.040713   \n",
              "Population (historical estimates)                               0.964331   \n",
              "\n",
              "                                                    Air transport, passengers carried  \\\n",
              "Annual CO₂ emissions                                                         0.949908   \n",
              "Air transport, passengers carried                                            1.000000   \n",
              "GDP per capita, PPP (constant 2017 internationa...                           0.090724   \n",
              "Population (historical estimates)                                            0.883990   \n",
              "\n",
              "                                                    GDP per capita, PPP (constant 2017 international $)  \\\n",
              "Annual CO₂ emissions                                                                         0.040713     \n",
              "Air transport, passengers carried                                                            0.090724     \n",
              "GDP per capita, PPP (constant 2017 internationa...                                           1.000000     \n",
              "Population (historical estimates)                                                           -0.031106     \n",
              "\n",
              "                                                    Population (historical estimates)  \n",
              "Annual CO₂ emissions                                                         0.964331  \n",
              "Air transport, passengers carried                                            0.883990  \n",
              "GDP per capita, PPP (constant 2017 internationa...                          -0.031106  \n",
              "Population (historical estimates)                                            1.000000  "
            ],
            "text/html": [
              "\n",
              "  <div id=\"df-8c43389a-a6d1-4704-9aba-eafaa7d5ce78\">\n",
              "    <div class=\"colab-df-container\">\n",
              "      <div>\n",
              "<style scoped>\n",
              "    .dataframe tbody tr th:only-of-type {\n",
              "        vertical-align: middle;\n",
              "    }\n",
              "\n",
              "    .dataframe tbody tr th {\n",
              "        vertical-align: top;\n",
              "    }\n",
              "\n",
              "    .dataframe thead th {\n",
              "        text-align: right;\n",
              "    }\n",
              "</style>\n",
              "<table border=\"1\" class=\"dataframe\">\n",
              "  <thead>\n",
              "    <tr style=\"text-align: right;\">\n",
              "      <th></th>\n",
              "      <th>Annual CO₂ emissions</th>\n",
              "      <th>Air transport, passengers carried</th>\n",
              "      <th>GDP per capita, PPP (constant 2017 international $)</th>\n",
              "      <th>Population (historical estimates)</th>\n",
              "    </tr>\n",
              "  </thead>\n",
              "  <tbody>\n",
              "    <tr>\n",
              "      <th>Annual CO₂ emissions</th>\n",
              "      <td>1.000000</td>\n",
              "      <td>0.949908</td>\n",
              "      <td>0.040713</td>\n",
              "      <td>0.964331</td>\n",
              "    </tr>\n",
              "    <tr>\n",
              "      <th>Air transport, passengers carried</th>\n",
              "      <td>0.949908</td>\n",
              "      <td>1.000000</td>\n",
              "      <td>0.090724</td>\n",
              "      <td>0.883990</td>\n",
              "    </tr>\n",
              "    <tr>\n",
              "      <th>GDP per capita, PPP (constant 2017 international $)</th>\n",
              "      <td>0.040713</td>\n",
              "      <td>0.090724</td>\n",
              "      <td>1.000000</td>\n",
              "      <td>-0.031106</td>\n",
              "    </tr>\n",
              "    <tr>\n",
              "      <th>Population (historical estimates)</th>\n",
              "      <td>0.964331</td>\n",
              "      <td>0.883990</td>\n",
              "      <td>-0.031106</td>\n",
              "      <td>1.000000</td>\n",
              "    </tr>\n",
              "  </tbody>\n",
              "</table>\n",
              "</div>\n",
              "      <button class=\"colab-df-convert\" onclick=\"convertToInteractive('df-8c43389a-a6d1-4704-9aba-eafaa7d5ce78')\"\n",
              "              title=\"Convert this dataframe to an interactive table.\"\n",
              "              style=\"display:none;\">\n",
              "        \n",
              "  <svg xmlns=\"http://www.w3.org/2000/svg\" height=\"24px\"viewBox=\"0 0 24 24\"\n",
              "       width=\"24px\">\n",
              "    <path d=\"M0 0h24v24H0V0z\" fill=\"none\"/>\n",
              "    <path d=\"M18.56 5.44l.94 2.06.94-2.06 2.06-.94-2.06-.94-.94-2.06-.94 2.06-2.06.94zm-11 1L8.5 8.5l.94-2.06 2.06-.94-2.06-.94L8.5 2.5l-.94 2.06-2.06.94zm10 10l.94 2.06.94-2.06 2.06-.94-2.06-.94-.94-2.06-.94 2.06-2.06.94z\"/><path d=\"M17.41 7.96l-1.37-1.37c-.4-.4-.92-.59-1.43-.59-.52 0-1.04.2-1.43.59L10.3 9.45l-7.72 7.72c-.78.78-.78 2.05 0 2.83L4 21.41c.39.39.9.59 1.41.59.51 0 1.02-.2 1.41-.59l7.78-7.78 2.81-2.81c.8-.78.8-2.07 0-2.86zM5.41 20L4 18.59l7.72-7.72 1.47 1.35L5.41 20z\"/>\n",
              "  </svg>\n",
              "      </button>\n",
              "      \n",
              "  <style>\n",
              "    .colab-df-container {\n",
              "      display:flex;\n",
              "      flex-wrap:wrap;\n",
              "      gap: 12px;\n",
              "    }\n",
              "\n",
              "    .colab-df-convert {\n",
              "      background-color: #E8F0FE;\n",
              "      border: none;\n",
              "      border-radius: 50%;\n",
              "      cursor: pointer;\n",
              "      display: none;\n",
              "      fill: #1967D2;\n",
              "      height: 32px;\n",
              "      padding: 0 0 0 0;\n",
              "      width: 32px;\n",
              "    }\n",
              "\n",
              "    .colab-df-convert:hover {\n",
              "      background-color: #E2EBFA;\n",
              "      box-shadow: 0px 1px 2px rgba(60, 64, 67, 0.3), 0px 1px 3px 1px rgba(60, 64, 67, 0.15);\n",
              "      fill: #174EA6;\n",
              "    }\n",
              "\n",
              "    [theme=dark] .colab-df-convert {\n",
              "      background-color: #3B4455;\n",
              "      fill: #D2E3FC;\n",
              "    }\n",
              "\n",
              "    [theme=dark] .colab-df-convert:hover {\n",
              "      background-color: #434B5C;\n",
              "      box-shadow: 0px 1px 3px 1px rgba(0, 0, 0, 0.15);\n",
              "      filter: drop-shadow(0px 1px 2px rgba(0, 0, 0, 0.3));\n",
              "      fill: #FFFFFF;\n",
              "    }\n",
              "  </style>\n",
              "\n",
              "      <script>\n",
              "        const buttonEl =\n",
              "          document.querySelector('#df-8c43389a-a6d1-4704-9aba-eafaa7d5ce78 button.colab-df-convert');\n",
              "        buttonEl.style.display =\n",
              "          google.colab.kernel.accessAllowed ? 'block' : 'none';\n",
              "\n",
              "        async function convertToInteractive(key) {\n",
              "          const element = document.querySelector('#df-8c43389a-a6d1-4704-9aba-eafaa7d5ce78');\n",
              "          const dataTable =\n",
              "            await google.colab.kernel.invokeFunction('convertToInteractive',\n",
              "                                                     [key], {});\n",
              "          if (!dataTable) return;\n",
              "\n",
              "          const docLinkHtml = 'Like what you see? Visit the ' +\n",
              "            '<a target=\"_blank\" href=https://colab.research.google.com/notebooks/data_table.ipynb>data table notebook</a>'\n",
              "            + ' to learn more about interactive tables.';\n",
              "          element.innerHTML = '';\n",
              "          dataTable['output_type'] = 'display_data';\n",
              "          await google.colab.output.renderOutput(dataTable, element);\n",
              "          const docLink = document.createElement('div');\n",
              "          docLink.innerHTML = docLinkHtml;\n",
              "          element.appendChild(docLink);\n",
              "        }\n",
              "      </script>\n",
              "    </div>\n",
              "  </div>\n",
              "  "
            ],
            "application/vnd.google.colaboratory.module+javascript": "\n      import \"https://ssl.gstatic.com/colaboratory/data_table/99dac6621f6ae8c4/data_table.js\";\n\n      window.createDataTable({\n        data: [[\"Annual CO\\u2082 emissions\",\n{\n            'v': 1.0,\n            'f': \"1.0\",\n        },\n{\n            'v': 0.9499078531505403,\n            'f': \"0.9499078531505403\",\n        },\n{\n            'v': 0.040712663774037226,\n            'f': \"0.040712663774037226\",\n        },\n{\n            'v': 0.9643309766884387,\n            'f': \"0.9643309766884387\",\n        }],\n [\"Air transport, passengers carried\",\n{\n            'v': 0.9499078531505403,\n            'f': \"0.9499078531505403\",\n        },\n{\n            'v': 1.0,\n            'f': \"1.0\",\n        },\n{\n            'v': 0.09072401064499613,\n            'f': \"0.09072401064499613\",\n        },\n{\n            'v': 0.8839895337665569,\n            'f': \"0.8839895337665569\",\n        }],\n [\"GDP per capita, PPP (constant 2017 international $)\",\n{\n            'v': 0.040712663774037226,\n            'f': \"0.040712663774037226\",\n        },\n{\n            'v': 0.09072401064499613,\n            'f': \"0.09072401064499613\",\n        },\n{\n            'v': 1.0,\n            'f': \"1.0\",\n        },\n{\n            'v': -0.031106480648597827,\n            'f': \"-0.031106480648597827\",\n        }],\n [\"Population (historical estimates)\",\n{\n            'v': 0.9643309766884387,\n            'f': \"0.9643309766884387\",\n        },\n{\n            'v': 0.8839895337665569,\n            'f': \"0.8839895337665569\",\n        },\n{\n            'v': -0.031106480648597827,\n            'f': \"-0.031106480648597827\",\n        },\n{\n            'v': 1.0,\n            'f': \"1.0\",\n        }]],\n        columns: [[\"string\", \"index\"], [\"number\", \"Annual CO\\u2082 emissions\"], [\"number\", \"Air transport, passengers carried\"], [\"number\", \"GDP per capita, PPP (constant 2017 international $)\"], [\"number\", \"Population (historical estimates)\"]],\n        columnOptions: [{\"width\": \"1px\", \"className\": \"index_column\"}],\n        rowsPerPage: 25,\n        helpUrl: \"https://colab.research.google.com/notebooks/data_table.ipynb\",\n        suppressOutputScrolling: true,\n        minimumWidth: undefined,\n      });\n    "
          },
          "metadata": {}
        },
        {
          "output_type": "display_data",
          "data": {
            "text/plain": [
              "<Figure size 1080x720 with 1 Axes>"
            ],
            "image/png": "[encoded data removed]"
          },
          "metadata": {
            "needs_background": "light"
          }
        }
      ]
    }
  ]
}